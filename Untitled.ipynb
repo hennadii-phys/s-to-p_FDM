{
 "cells": [
  {
   "cell_type": "code",
   "execution_count": 2,
   "id": "26705698-e1b4-4f8b-8b99-d17563146668",
   "metadata": {},
   "outputs": [],
   "source": [
    "import tdgl\n",
    "import light_sources.laguerre_gaussian_beam as lg\n",
    "import inspect\n",
    "import itertools\n",
    "import logging\n",
    "import math\n",
    "import numbers\n",
    "import os\n",
    "from datetime import datetime\n",
    "from typing import Callable, Dict, List, NamedTuple, Optional, Sequence, Tuple, Union\n",
    "\n",
    "import numpy as np\n",
    "import scipy.sparse as sp"
   ]
  },
  {
   "cell_type": "code",
   "execution_count": 8,
   "id": "b7d5fc04-0f2c-46c0-8bc5-666f544c5943",
   "metadata": {},
   "outputs": [
    {
     "ename": "TypeError",
     "evalue": "'float' object cannot be interpreted as an integer",
     "output_type": "error",
     "traceback": [
      "\u001b[0;31m---------------------------------------------------------------------------\u001b[0m",
      "\u001b[0;31mTypeError\u001b[0m                                 Traceback (most recent call last)",
      "Cell \u001b[0;32mIn[8], line 4\u001b[0m\n\u001b[1;32m      2\u001b[0m a\u001b[38;5;241m=\u001b[39m\u001b[38;5;241m1\u001b[39m;b\u001b[38;5;241m=\u001b[39m\u001b[38;5;241m1\u001b[39m;xl\u001b[38;5;241m=\u001b[39m\u001b[38;5;241m-\u001b[39ma;xr\u001b[38;5;241m=\u001b[39ma;yb\u001b[38;5;241m=\u001b[39m\u001b[38;5;241m-\u001b[39mb;yt\u001b[38;5;241m=\u001b[39mb;\n\u001b[1;32m      3\u001b[0m Nx\u001b[38;5;241m=\u001b[39m\u001b[38;5;241m2\u001b[39m;Ny\u001b[38;5;241m=\u001b[39m\u001b[38;5;241m2\u001b[39m;\n\u001b[0;32m----> 4\u001b[0m xgrid\u001b[38;5;241m=\u001b[39m\u001b[43mnp\u001b[49m\u001b[38;5;241;43m.\u001b[39;49m\u001b[43mlinspace\u001b[49m\u001b[43m(\u001b[49m\u001b[43mxl\u001b[49m\u001b[43m,\u001b[49m\u001b[43mxr\u001b[49m\u001b[43m,\u001b[49m\u001b[43m(\u001b[49m\u001b[43mxr\u001b[49m\u001b[38;5;241;43m-\u001b[39;49m\u001b[43mxl\u001b[49m\u001b[43m)\u001b[49m\u001b[38;5;241;43m/\u001b[39;49m\u001b[43mNx\u001b[49m\u001b[43m)\u001b[49m\n",
      "File \u001b[0;32m~/anaconda3/envs/tdgl/lib/python3.10/site-packages/numpy/core/function_base.py:122\u001b[0m, in \u001b[0;36mlinspace\u001b[0;34m(start, stop, num, endpoint, retstep, dtype, axis)\u001b[0m\n\u001b[1;32m     24\u001b[0m \u001b[38;5;129m@array_function_dispatch\u001b[39m(_linspace_dispatcher)\n\u001b[1;32m     25\u001b[0m \u001b[38;5;28;01mdef\u001b[39;00m\u001b[38;5;250m \u001b[39m\u001b[38;5;21mlinspace\u001b[39m(start, stop, num\u001b[38;5;241m=\u001b[39m\u001b[38;5;241m50\u001b[39m, endpoint\u001b[38;5;241m=\u001b[39m\u001b[38;5;28;01mTrue\u001b[39;00m, retstep\u001b[38;5;241m=\u001b[39m\u001b[38;5;28;01mFalse\u001b[39;00m, dtype\u001b[38;5;241m=\u001b[39m\u001b[38;5;28;01mNone\u001b[39;00m,\n\u001b[1;32m     26\u001b[0m              axis\u001b[38;5;241m=\u001b[39m\u001b[38;5;241m0\u001b[39m):\n\u001b[1;32m     27\u001b[0m \u001b[38;5;250m    \u001b[39m\u001b[38;5;124;03m\"\"\"\u001b[39;00m\n\u001b[1;32m     28\u001b[0m \u001b[38;5;124;03m    Return evenly spaced numbers over a specified interval.\u001b[39;00m\n\u001b[1;32m     29\u001b[0m \n\u001b[0;32m   (...)\u001b[0m\n\u001b[1;32m    120\u001b[0m \n\u001b[1;32m    121\u001b[0m \u001b[38;5;124;03m    \"\"\"\u001b[39;00m\n\u001b[0;32m--> 122\u001b[0m     num \u001b[38;5;241m=\u001b[39m \u001b[43moperator\u001b[49m\u001b[38;5;241;43m.\u001b[39;49m\u001b[43mindex\u001b[49m\u001b[43m(\u001b[49m\u001b[43mnum\u001b[49m\u001b[43m)\u001b[49m\n\u001b[1;32m    123\u001b[0m     \u001b[38;5;28;01mif\u001b[39;00m num \u001b[38;5;241m<\u001b[39m \u001b[38;5;241m0\u001b[39m:\n\u001b[1;32m    124\u001b[0m         \u001b[38;5;28;01mraise\u001b[39;00m \u001b[38;5;167;01mValueError\u001b[39;00m(\u001b[38;5;124m\"\u001b[39m\u001b[38;5;124mNumber of samples, \u001b[39m\u001b[38;5;132;01m%s\u001b[39;00m\u001b[38;5;124m, must be non-negative.\u001b[39m\u001b[38;5;124m\"\u001b[39m \u001b[38;5;241m%\u001b[39m num)\n",
      "\u001b[0;31mTypeError\u001b[0m: 'float' object cannot be interpreted as an integer"
     ]
    }
   ],
   "source": [
    "# Make a grid on the square film\n",
    "a=1;b=1;xl=-a;xr=a;yb=-b;yt=b;\n",
    "Nx=2;Ny=2;\n",
    "xgrid=np.linspace(xl,xr,(xr-/Nx)"
   ]
  },
  {
   "cell_type": "code",
   "execution_count": 6,
   "id": "234b2827-bd00-4b3e-b01c-cb42ce75e4ee",
   "metadata": {},
   "outputs": [
    {
     "data": {
      "text/plain": [
       "1"
      ]
     },
     "execution_count": 6,
     "metadata": {},
     "output_type": "execute_result"
    }
   ],
   "source": [
    "xr"
   ]
  },
  {
   "cell_type": "code",
   "execution_count": null,
   "id": "d0517124-24c4-4d96-8ed8-d63f9bd451a4",
   "metadata": {},
   "outputs": [],
   "source": []
  }
 ],
 "metadata": {
  "kernelspec": {
   "display_name": "Python 3 (ipykernel)",
   "language": "python",
   "name": "python3"
  },
  "language_info": {
   "codemirror_mode": {
    "name": "ipython",
    "version": 3
   },
   "file_extension": ".py",
   "mimetype": "text/x-python",
   "name": "python",
   "nbconvert_exporter": "python",
   "pygments_lexer": "ipython3",
   "version": "3.10.16"
  }
 },
 "nbformat": 4,
 "nbformat_minor": 5
}
